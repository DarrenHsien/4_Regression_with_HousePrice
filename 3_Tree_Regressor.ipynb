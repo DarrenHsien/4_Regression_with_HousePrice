{
 "cells": [
  {
   "cell_type": "markdown",
   "metadata": {},
   "source": [
    "# 一、資料匯入"
   ]
  },
  {
   "cell_type": "code",
   "execution_count": 1,
   "metadata": {},
   "outputs": [
    {
     "data": {
      "text/html": [
       "<div>\n",
       "<style scoped>\n",
       "    .dataframe tbody tr th:only-of-type {\n",
       "        vertical-align: middle;\n",
       "    }\n",
       "\n",
       "    .dataframe tbody tr th {\n",
       "        vertical-align: top;\n",
       "    }\n",
       "\n",
       "    .dataframe thead th {\n",
       "        text-align: right;\n",
       "    }\n",
       "</style>\n",
       "<table border=\"1\" class=\"dataframe\">\n",
       "  <thead>\n",
       "    <tr style=\"text-align: right;\">\n",
       "      <th></th>\n",
       "      <th>鄉鎮市區</th>\n",
       "      <th>土地移轉總面積平方公尺</th>\n",
       "      <th>建物移轉總面積平方公尺</th>\n",
       "      <th>單價每平方公尺</th>\n",
       "      <th>建物現況格局-房</th>\n",
       "      <th>建物現況格局-廳</th>\n",
       "      <th>建物現況格局-衛</th>\n",
       "      <th>車位移轉總面積平方公尺</th>\n",
       "      <th>車位總價元</th>\n",
       "      <th>屋齡</th>\n",
       "      <th>建築完成年</th>\n",
       "      <th>交易年</th>\n",
       "      <th>總價元</th>\n",
       "      <th>中山區</th>\n",
       "      <th>中正區</th>\n",
       "      <th>信義區</th>\n",
       "      <th>內湖區</th>\n",
       "      <th>北投區</th>\n",
       "      <th>南港區</th>\n",
       "      <th>士林區</th>\n",
       "      <th>大同區</th>\n",
       "      <th>大安區</th>\n",
       "      <th>文山區</th>\n",
       "      <th>松山區</th>\n",
       "      <th>萬華區</th>\n",
       "    </tr>\n",
       "  </thead>\n",
       "  <tbody>\n",
       "    <tr>\n",
       "      <th>516</th>\n",
       "      <td>內湖區</td>\n",
       "      <td>41.16</td>\n",
       "      <td>219.46</td>\n",
       "      <td>184622</td>\n",
       "      <td>3</td>\n",
       "      <td>2</td>\n",
       "      <td>2</td>\n",
       "      <td>48.57</td>\n",
       "      <td>1650000</td>\n",
       "      <td>1</td>\n",
       "      <td>105</td>\n",
       "      <td>106</td>\n",
       "      <td>3320.00</td>\n",
       "      <td>0</td>\n",
       "      <td>0</td>\n",
       "      <td>0</td>\n",
       "      <td>1</td>\n",
       "      <td>0</td>\n",
       "      <td>0</td>\n",
       "      <td>0</td>\n",
       "      <td>0</td>\n",
       "      <td>0</td>\n",
       "      <td>0</td>\n",
       "      <td>0</td>\n",
       "      <td>0</td>\n",
       "    </tr>\n",
       "    <tr>\n",
       "      <th>248</th>\n",
       "      <td>松山區</td>\n",
       "      <td>9.44</td>\n",
       "      <td>56.87</td>\n",
       "      <td>191314</td>\n",
       "      <td>2</td>\n",
       "      <td>1</td>\n",
       "      <td>1</td>\n",
       "      <td>0.00</td>\n",
       "      <td>0</td>\n",
       "      <td>35</td>\n",
       "      <td>71</td>\n",
       "      <td>106</td>\n",
       "      <td>1088.00</td>\n",
       "      <td>0</td>\n",
       "      <td>0</td>\n",
       "      <td>0</td>\n",
       "      <td>0</td>\n",
       "      <td>0</td>\n",
       "      <td>0</td>\n",
       "      <td>0</td>\n",
       "      <td>0</td>\n",
       "      <td>0</td>\n",
       "      <td>0</td>\n",
       "      <td>1</td>\n",
       "      <td>0</td>\n",
       "    </tr>\n",
       "    <tr>\n",
       "      <th>67</th>\n",
       "      <td>文山區</td>\n",
       "      <td>11.69</td>\n",
       "      <td>67.75</td>\n",
       "      <td>172399</td>\n",
       "      <td>2</td>\n",
       "      <td>1</td>\n",
       "      <td>1</td>\n",
       "      <td>0.00</td>\n",
       "      <td>0</td>\n",
       "      <td>9</td>\n",
       "      <td>97</td>\n",
       "      <td>106</td>\n",
       "      <td>1168.00</td>\n",
       "      <td>0</td>\n",
       "      <td>0</td>\n",
       "      <td>0</td>\n",
       "      <td>0</td>\n",
       "      <td>0</td>\n",
       "      <td>0</td>\n",
       "      <td>0</td>\n",
       "      <td>0</td>\n",
       "      <td>0</td>\n",
       "      <td>1</td>\n",
       "      <td>0</td>\n",
       "      <td>0</td>\n",
       "    </tr>\n",
       "    <tr>\n",
       "      <th>474</th>\n",
       "      <td>中山區</td>\n",
       "      <td>27.05</td>\n",
       "      <td>265.78</td>\n",
       "      <td>260366</td>\n",
       "      <td>4</td>\n",
       "      <td>2</td>\n",
       "      <td>3</td>\n",
       "      <td>0.00</td>\n",
       "      <td>0</td>\n",
       "      <td>7</td>\n",
       "      <td>99</td>\n",
       "      <td>106</td>\n",
       "      <td>6920.00</td>\n",
       "      <td>1</td>\n",
       "      <td>0</td>\n",
       "      <td>0</td>\n",
       "      <td>0</td>\n",
       "      <td>0</td>\n",
       "      <td>0</td>\n",
       "      <td>0</td>\n",
       "      <td>0</td>\n",
       "      <td>0</td>\n",
       "      <td>0</td>\n",
       "      <td>0</td>\n",
       "      <td>0</td>\n",
       "    </tr>\n",
       "    <tr>\n",
       "      <th>70</th>\n",
       "      <td>萬華區</td>\n",
       "      <td>25.75</td>\n",
       "      <td>88.14</td>\n",
       "      <td>46656</td>\n",
       "      <td>3</td>\n",
       "      <td>1</td>\n",
       "      <td>1</td>\n",
       "      <td>0.00</td>\n",
       "      <td>0</td>\n",
       "      <td>43</td>\n",
       "      <td>63</td>\n",
       "      <td>106</td>\n",
       "      <td>411.23</td>\n",
       "      <td>0</td>\n",
       "      <td>0</td>\n",
       "      <td>0</td>\n",
       "      <td>0</td>\n",
       "      <td>0</td>\n",
       "      <td>0</td>\n",
       "      <td>0</td>\n",
       "      <td>0</td>\n",
       "      <td>0</td>\n",
       "      <td>0</td>\n",
       "      <td>0</td>\n",
       "      <td>1</td>\n",
       "    </tr>\n",
       "  </tbody>\n",
       "</table>\n",
       "</div>"
      ],
      "text/plain": [
       "    鄉鎮市區  土地移轉總面積平方公尺  建物移轉總面積平方公尺  單價每平方公尺  建物現況格局-房  建物現況格局-廳  建物現況格局-衛  \\\n",
       "516  內湖區        41.16       219.46   184622         3         2         2   \n",
       "248  松山區         9.44        56.87   191314         2         1         1   \n",
       "67   文山區        11.69        67.75   172399         2         1         1   \n",
       "474  中山區        27.05       265.78   260366         4         2         3   \n",
       "70   萬華區        25.75        88.14    46656         3         1         1   \n",
       "\n",
       "     車位移轉總面積平方公尺    車位總價元  屋齡  建築完成年  交易年      總價元  中山區  中正區  信義區  內湖區  北投區  \\\n",
       "516        48.57  1650000   1    105  106  3320.00    0    0    0    1    0   \n",
       "248         0.00        0  35     71  106  1088.00    0    0    0    0    0   \n",
       "67          0.00        0   9     97  106  1168.00    0    0    0    0    0   \n",
       "474         0.00        0   7     99  106  6920.00    1    0    0    0    0   \n",
       "70          0.00        0  43     63  106   411.23    0    0    0    0    0   \n",
       "\n",
       "     南港區  士林區  大同區  大安區  文山區  松山區  萬華區  \n",
       "516    0    0    0    0    0    0    0  \n",
       "248    0    0    0    0    0    1    0  \n",
       "67     0    0    0    0    1    0    0  \n",
       "474    0    0    0    0    0    0    0  \n",
       "70     0    0    0    0    0    0    1  "
      ]
     },
     "execution_count": 1,
     "metadata": {},
     "output_type": "execute_result"
    }
   ],
   "source": [
    "import pandas as pd\n",
    "import numpy as np\n",
    "import matplotlib.pyplot as plt\n",
    "\n",
    "%matplotlib inline\n",
    "plt.style.use('ggplot')\n",
    "plt.rcParams['font.family']='DFKai-SB' #顯示中文 (for Win10)\n",
    "plt.rcParams['axes.unicode_minus']=False #正常顯示負號\n",
    "\n",
    "pd.set_option(\"display.max_columns\",50) #設定pandas最多顯示出50個欄位資訊\n",
    "df_ml = pd.read_csv('tw_house.csv', encoding='big5') #台北市\n",
    "df_ml.sample(5) #隨機取其中5筆資料"
   ]
  },
  {
   "cell_type": "markdown",
   "metadata": {},
   "source": [
    "# 二、建模前預處理"
   ]
  },
  {
   "cell_type": "markdown",
   "metadata": {},
   "source": [
    "## 切分訓練及測試資料"
   ]
  },
  {
   "cell_type": "code",
   "execution_count": 2,
   "metadata": {},
   "outputs": [
    {
     "data": {
      "text/html": [
       "<div>\n",
       "<style scoped>\n",
       "    .dataframe tbody tr th:only-of-type {\n",
       "        vertical-align: middle;\n",
       "    }\n",
       "\n",
       "    .dataframe tbody tr th {\n",
       "        vertical-align: top;\n",
       "    }\n",
       "\n",
       "    .dataframe thead th {\n",
       "        text-align: right;\n",
       "    }\n",
       "</style>\n",
       "<table border=\"1\" class=\"dataframe\">\n",
       "  <thead>\n",
       "    <tr style=\"text-align: right;\">\n",
       "      <th></th>\n",
       "      <th>建物移轉總面積平方公尺</th>\n",
       "    </tr>\n",
       "  </thead>\n",
       "  <tbody>\n",
       "    <tr>\n",
       "      <th>445</th>\n",
       "      <td>34.80</td>\n",
       "    </tr>\n",
       "    <tr>\n",
       "      <th>193</th>\n",
       "      <td>120.45</td>\n",
       "    </tr>\n",
       "    <tr>\n",
       "      <th>545</th>\n",
       "      <td>331.99</td>\n",
       "    </tr>\n",
       "    <tr>\n",
       "      <th>468</th>\n",
       "      <td>198.18</td>\n",
       "    </tr>\n",
       "    <tr>\n",
       "      <th>231</th>\n",
       "      <td>72.65</td>\n",
       "    </tr>\n",
       "  </tbody>\n",
       "</table>\n",
       "</div>"
      ],
      "text/plain": [
       "     建物移轉總面積平方公尺\n",
       "445        34.80\n",
       "193       120.45\n",
       "545       331.99\n",
       "468       198.18\n",
       "231        72.65"
      ]
     },
     "execution_count": 2,
     "metadata": {},
     "output_type": "execute_result"
    }
   ],
   "source": [
    "from sklearn.model_selection import train_test_split\n",
    "\n",
    "X = df_ml[['建物移轉總面積平方公尺']]\n",
    "y = df_ml[['總價元']]\n",
    "\n",
    "X_train, X_test, y_train, y_test = train_test_split(X, y, test_size = 0.3) # 30% for testing, 70% for training\n",
    "X_train.head()"
   ]
  },
  {
   "cell_type": "markdown",
   "metadata": {},
   "source": [
    "## 標準化"
   ]
  },
  {
   "cell_type": "code",
   "execution_count": 3,
   "metadata": {},
   "outputs": [],
   "source": [
    "from sklearn.preprocessing import StandardScaler\n",
    "sc = StandardScaler()\n",
    "sc.fit(X_train)\n",
    "X_train_std = sc.transform(X_train)\n",
    "X_test_std = sc.transform(X_test)\n",
    "X_std = sc.transform(X)"
   ]
  },
  {
   "cell_type": "markdown",
   "metadata": {},
   "source": [
    "## 產生高次方項"
   ]
  },
  {
   "cell_type": "code",
   "execution_count": 4,
   "metadata": {},
   "outputs": [
    {
     "name": "stdout",
     "output_type": "stream",
     "text": [
      "[[ 1.         -0.93541878  0.87500829]\n",
      " [ 1.         -0.09590976  0.00919868]\n",
      " [ 1.          1.9775256   3.91060749]\n",
      " [ 1.          0.66597041  0.44351658]\n",
      " [ 1.         -0.56442734  0.31857823]]\n"
     ]
    }
   ],
   "source": [
    "from sklearn.preprocessing import PolynomialFeatures\n",
    "\n",
    "quadratic = PolynomialFeatures(degree=2) #0~2次方\n",
    "\n",
    "X_train_poly = quadratic.fit_transform(X_train_std)\n",
    "X_test_poly = quadratic.fit_transform(X_test_std) \n",
    "X_poly = quadratic.fit_transform(X_std)\n",
    "print(X_train_poly[:5])"
   ]
  },
  {
   "cell_type": "markdown",
   "metadata": {},
   "source": [
    "# 迴歸樹\n",
    "可調max_depth"
   ]
  },
  {
   "cell_type": "code",
   "execution_count": 5,
   "metadata": {},
   "outputs": [
    {
     "name": "stdout",
     "output_type": "stream",
     "text": [
      "MSE: 4037850.88\n",
      "R Square: 0.15346373899700527\n"
     ]
    }
   ],
   "source": [
    "from sklearn.tree import DecisionTreeRegressor\n",
    "\n",
    "dtr = DecisionTreeRegressor(max_depth=5)\n",
    "dtr.fit(X_train_std, y_train)\n",
    "\n",
    "print(\"MSE: %.2f\" % np.mean((dtr.predict(X_test_std) - y_test.values.ravel()) ** 2)) #.values.ravel()把矩陣轉成一維\n",
    "print(\"R Square:\",dtr.score(X_test_std, y_test))"
   ]
  },
  {
   "cell_type": "code",
   "execution_count": 6,
   "metadata": {},
   "outputs": [
    {
     "data": {
      "image/png": "[encoded data removed]",
      "text/plain": [
       "<Figure size 720x432 with 1 Axes>"
      ]
     },
     "metadata": {
      "needs_background": "light"
     },
     "output_type": "display_data"
    }
   ],
   "source": [
    "T = np.linspace(-2, 6, 600).reshape(-1,1) #reshape成二維矩陣\n",
    "\n",
    "plt.figure(figsize=(10,6))\n",
    "plt.scatter(X_train_std, y_train['總價元'], s=20, edgecolor=\"black\", c=\"darkorange\", label=\"data\")\n",
    "plt.plot(T, dtr.predict(T), color=\"cornflowerblue\", label=\"max_depth=5\", linewidth=2)\n",
    "plt.xlabel(\"data\")\n",
    "plt.ylabel(\"target\")\n",
    "plt.title(\"Decision Tree Regression\")\n",
    "plt.legend()\n",
    "plt.show()"
   ]
  }
 ],
 "metadata": {
  "kernelspec": {
   "display_name": "Python 3",
   "language": "python",
   "name": "python3"
  },
  "language_info": {
   "codemirror_mode": {
    "name": "ipython",
    "version": 3
   },
   "file_extension": ".py",
   "mimetype": "text/x-python",
   "name": "python",
   "nbconvert_exporter": "python",
   "pygments_lexer": "ipython3",
   "version": "3.6.9"
  }
 },
 "nbformat": 4,
 "nbformat_minor": 2
}
